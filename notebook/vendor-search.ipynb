{
  "cells": [
    {
      "cell_type": "code",
      "execution_count": null,
      "metadata": {
        "execution": {
          "iopub.execute_input": "2023-07-14T11:40:27.359144Z",
          "iopub.status.busy": "2023-07-14T11:40:27.358206Z",
          "iopub.status.idle": "2023-07-14T11:40:27.414652Z",
          "shell.execute_reply": "2023-07-14T11:40:27.413873Z",
          "shell.execute_reply.started": "2023-07-14T11:40:27.359105Z"
        },
        "id": "EnVaL77eeJWe",
        "trusted": true
      },
      "outputs": [],
      "source": [
        "import pandas as pd\n",
        "import requests\n",
        "import time\n",
        "import re\n",
        "from tqdm import tqdm"
      ]
    },
    {
      "cell_type": "code",
      "execution_count": null,
      "metadata": {
        "execution": {
          "iopub.execute_input": "2023-07-14T11:40:27.416695Z",
          "iopub.status.busy": "2023-07-14T11:40:27.416385Z",
          "iopub.status.idle": "2023-07-14T11:40:27.420943Z",
          "shell.execute_reply": "2023-07-14T11:40:27.420229Z",
          "shell.execute_reply.started": "2023-07-14T11:40:27.416666Z"
        },
        "id": "5Ev8H9OkeJWf",
        "trusted": true
      },
      "outputs": [],
      "source": [
        "molport_username = \"\"\n",
        "molport_authcode = \"\"\n",
        "molport_api_key = \"\"\n",
        "\n",
        "chemspace_api_key = \"\"\n",
        "\n",
        "mcule_token = \"\""
      ]
    },
    {
      "cell_type": "code",
      "execution_count": null,
      "metadata": {
        "execution": {
          "iopub.execute_input": "2023-07-14T11:40:27.422648Z",
          "iopub.status.busy": "2023-07-14T11:40:27.421843Z",
          "iopub.status.idle": "2023-07-14T11:40:27.435109Z",
          "shell.execute_reply": "2023-07-14T11:40:27.434093Z",
          "shell.execute_reply.started": "2023-07-14T11:40:27.422615Z"
        },
        "id": "sIh_wZAeeJWf",
        "trusted": true
      },
      "outputs": [],
      "source": [
        "# \"paracetamol, ibuprofène, aspirin\"\n",
        "smiles_list = [\"CC(=O)NC1=CC=C(C=C1)O\", \"CC(C)CC1=CC=C(C=C1)C(C)C(=O)O\", \"O=C(C)Oc1ccccc1C(=O)O\"]"
      ]
    },
    {
      "cell_type": "markdown",
      "metadata": {
        "id": "ym_z9_mTeJWg"
      },
      "source": [
        "# # **MOLPORT**"
      ]
    },
    {
      "cell_type": "code",
      "execution_count": null,
      "metadata": {
        "execution": {
          "iopub.execute_input": "2023-07-14T11:40:27.438501Z",
          "iopub.status.busy": "2023-07-14T11:40:27.438105Z",
          "iopub.status.idle": "2023-07-14T11:40:27.449692Z",
          "shell.execute_reply": "2023-07-14T11:40:27.448610Z",
          "shell.execute_reply.started": "2023-07-14T11:40:27.438464Z"
        },
        "id": "R2uKRo6peJWg",
        "trusted": true
      },
      "outputs": [],
      "source": [
        "# Collects molport ids from the given list smiles (we will use this ids to search)\n",
        "def molport_get_ids(smiles_list):\n",
        "    # List to store t he IDs and SMILES\n",
        "    id_smiles_list = []\n",
        "\n",
        "    for smiles in tqdm(smiles_list):\n",
        "        # Data to send to the Molport server\n",
        "        if molport_username != None:\n",
        "            payload = {\n",
        "                \"User Name\": molport_username,\n",
        "                \"Authentication Code\": molport_authcode,\n",
        "                \"Structure\": smiles,\n",
        "                \"Search Type\": 5, # Perfect research\n",
        "                \"Maximum Search Time\": 60000,\n",
        "                \"Maximum Result Count\": 1000,\n",
        "                \"Chemical Similarity Index\": 0.9\n",
        "            }\n",
        "\n",
        "        # Send the request to the Molport server\n",
        "        r = requests.post('https://api.molport.com/api/chemical-search/search', json=payload)\n",
        "\n",
        "        # Get the Python dictionary from the server response\n",
        "        response = r.json()\n",
        "\n",
        "        if response[\"Result\"][\"Status\"] == 1:\n",
        "            molecules = response[\"Data\"][\"Molecules\"]\n",
        "\n",
        "            # Iterate over the molecules and their information\n",
        "            for molecule in molecules:\n",
        "                molecule_id = molecule[\"Id\"]\n",
        "                id_smiles_list.append((molecule_id, smiles))\n",
        "\n",
        "    df = pd.DataFrame(id_smiles_list, columns=[\"ID\", \"Input SMILES\"])\n",
        "\n",
        "    return df"
      ]
    },
    {
      "cell_type": "code",
      "execution_count": null,
      "metadata": {
        "colab": {
          "base_uri": "https://localhost:8080/"
        },
        "execution": {
          "iopub.execute_input": "2023-07-14T11:40:27.451229Z",
          "iopub.status.busy": "2023-07-14T11:40:27.450919Z",
          "iopub.status.idle": "2023-07-14T11:40:31.358622Z",
          "shell.execute_reply": "2023-07-14T11:40:31.357307Z",
          "shell.execute_reply.started": "2023-07-14T11:40:27.451203Z"
        },
        "id": "Q4gQfl47eJWh",
        "outputId": "d0b00d5c-4d78-4373-e5bb-8e515e3d2fdc",
        "trusted": true
      },
      "outputs": [],
      "source": [
        "df_molecule_ids = molport_get_ids(smiles_list)\n",
        "print(df_molecule_ids)"
      ]
    },
    {
      "cell_type": "code",
      "execution_count": null,
      "metadata": {
        "execution": {
          "iopub.execute_input": "2023-07-14T11:40:31.361473Z",
          "iopub.status.busy": "2023-07-14T11:40:31.360652Z",
          "iopub.status.idle": "2023-07-14T11:40:31.372788Z",
          "shell.execute_reply": "2023-07-14T11:40:31.371765Z",
          "shell.execute_reply.started": "2023-07-14T11:40:31.361433Z"
        },
        "id": "i_aCgfZieJWi",
        "trusted": true
      },
      "outputs": [],
      "source": [
        "#cleans the purity text\n",
        "def process_purity(value):\n",
        "    if value == \"('',)\":\n",
        "        return \"\"\n",
        "    else:\n",
        "        return value.strip('\\'(%\\'),')\n",
        "\n",
        "# standardize the price and purity columns with chemspace data\n",
        "def molport_standardize_columns(data):\n",
        "\n",
        "    data = data.astype(str)\n",
        "\n",
        "    # Apply the custom function to the 'Purity' column\n",
        "    data['Purity'] = data['Purity'].apply(process_purity)\n",
        "\n",
        "    # Create new columns Price_USD and Price_EUR with empty strings\n",
        "    data['Price_USD'] = \"\"\n",
        "\n",
        "    # Replace relevant values with corresponding prices\n",
        "    data.loc[data['Currency'] == 'USD', 'Price_USD'] = data.loc[data['Currency'] == 'USD', 'Price']\n",
        "\n",
        "    # Remove the Price and Currency columns\n",
        "    data.drop(['Price', 'Currency'], axis=1, inplace=True)\n",
        "\n",
        "    return data"
      ]
    },
    {
      "cell_type": "code",
      "execution_count": null,
      "metadata": {
        "execution": {
          "iopub.execute_input": "2023-07-14T11:40:31.375821Z",
          "iopub.status.busy": "2023-07-14T11:40:31.374984Z",
          "iopub.status.idle": "2023-07-14T11:40:31.412439Z",
          "shell.execute_reply": "2023-07-14T11:40:31.409822Z",
          "shell.execute_reply.started": "2023-07-14T11:40:31.375780Z"
        },
        "id": "3hVHbF4jeJWi",
        "trusted": true
      },
      "outputs": [],
      "source": [
        "# Collects prices for the given ids and coverts them into dataframe\n",
        "def molport_collect_prices(molecule_ids):\n",
        "\n",
        "    all_molecules_data = []\n",
        "\n",
        "    for _, row in tqdm(molecule_ids.iterrows(),total=len(molecule_ids)):\n",
        "        molecule_id = row['ID']\n",
        "        smiles = row['Input SMILES']\n",
        "\n",
        "        # Molport API URL\n",
        "        url = f'https://api.molport.com/api/molecule/load?molecule={molecule_id}&username={molport_username}&authenticationcode={molport_authcode}'\n",
        "\n",
        "        # Send the POST request to the Molport API\n",
        "        response = requests.post(url)\n",
        "\n",
        "        # Check the response status\n",
        "        if response.status_code == 200:\n",
        "            # The request was successful\n",
        "            data = response.json()\n",
        "            data['Data']['Molecule']['Input SMILES'] = smiles\n",
        "            all_molecules_data.append(data)\n",
        "        else:\n",
        "            # The request failed\n",
        "            print(f'Error in the request for molecule {molecule_id}: {response.status_code}')\n",
        "\n",
        "\n",
        "    molport_data = []\n",
        "\n",
        "    for data_ in all_molecules_data:\n",
        "            input_smiles = data_['Data']['Molecule']['Input SMILES']\n",
        "            smiles = data_['Data']['Molecule']['SMILES']\n",
        "            supplier_data = data_[\"Data\"][\"Molecule\"][\"Catalogues\"][\"Screening Block Suppliers\"]\n",
        "\n",
        "            # Write each data row\n",
        "            for supplier in supplier_data:\n",
        "                supplier_name = supplier[\"Supplier Name\"]\n",
        "                catalogues = supplier[\"Catalogues\"]\n",
        "\n",
        "                for catalogue in catalogues:\n",
        "                    purity = catalogue.get(\"Purity\", \"\"),\n",
        "\n",
        "                    last_update_date = catalogue.get(\"Last Update Date Exact\", \"\")\n",
        "                    packings = catalogue[\"Available Packings\"]\n",
        "\n",
        "                    for packing in packings:\n",
        "\n",
        "                        source = \"Molport\"\n",
        "                        amount = packing.get(\"Amount\", \"\")\n",
        "                        measure = packing.get(\"Measure\", \"\")\n",
        "                        price = packing.get(\"Price\", \"\")\n",
        "                        currency = packing.get(\"Currency\", \"\")\n",
        "\n",
        "                    molport_data.append((source, input_smiles, smiles, last_update_date, supplier_name, purity, price, amount, measure, currency))\n",
        "\n",
        "    # Create a DataFrame with collected data\n",
        "    df = pd.DataFrame(molport_data, columns=[\"Source\", \"Input SMILES\", \"SMILES\", \"Last Update Date Exact\", \"Supplier Name\", \"Purity\", \"Price\", \"Amount\", \"Measure\", \"Currency\"])\n",
        "\n",
        "    # read the file again\n",
        "    df = molport_standardize_columns(df)\n",
        "\n",
        "    #remove if no price rows\n",
        "    df = df.dropna(subset=[\"Price_USD\"], how='all')\n",
        "    return df"
      ]
    },
    {
      "cell_type": "code",
      "execution_count": null,
      "metadata": {
        "colab": {
          "base_uri": "https://localhost:8080/",
          "height": 271
        },
        "execution": {
          "iopub.execute_input": "2023-07-14T11:40:31.414994Z",
          "iopub.status.busy": "2023-07-14T11:40:31.414337Z",
          "iopub.status.idle": "2023-07-14T11:40:37.812772Z",
          "shell.execute_reply": "2023-07-14T11:40:37.812061Z",
          "shell.execute_reply.started": "2023-07-14T11:40:31.414953Z"
        },
        "id": "UhtYYniceJWi",
        "outputId": "3263dc65-8556-41c1-a81e-cc324622592b",
        "trusted": true
      },
      "outputs": [],
      "source": [
        "molport_prices=molport_collect_prices(df_molecule_ids)\n",
        "molport_prices"
      ]
    },
    {
      "cell_type": "markdown",
      "metadata": {
        "id": "THI_bdSreJWi"
      },
      "source": [
        "# # **CHEMSPACE**"
      ]
    },
    {
      "cell_type": "code",
      "execution_count": null,
      "metadata": {
        "execution": {
          "iopub.execute_input": "2023-07-14T11:40:37.814875Z",
          "iopub.status.busy": "2023-07-14T11:40:37.813947Z",
          "iopub.status.idle": "2023-07-14T11:40:37.821602Z",
          "shell.execute_reply": "2023-07-14T11:40:37.820666Z",
          "shell.execute_reply.started": "2023-07-14T11:40:37.814834Z"
        },
        "id": "RXCAKzrReJWj",
        "trusted": true
      },
      "outputs": [],
      "source": [
        "def chemspace_get_token():\n",
        "\n",
        "    url = \"https://api.chem-space.com/auth/token\"\n",
        "    headers = {\n",
        "        \"Authorization\": f\"Bearer {chemspace_api_key}\"\n",
        "    }\n",
        "\n",
        "    response = requests.get(url, headers=headers)\n",
        "\n",
        "    # Check if the request was successful (status code 200)\n",
        "    if response.status_code == 200:\n",
        "        # Retrieve the access token from the response\n",
        "        access_token = response.json()[\"access_token\"]\n",
        "\n",
        "        return access_token\n",
        "    else:\n",
        "        # The request failed, print the status code and response content\n",
        "        print(\"The request failed with the status code:\", response.status_code)\n",
        "        return None"
      ]
    },
    {
      "cell_type": "code",
      "execution_count": null,
      "metadata": {
        "execution": {
          "iopub.execute_input": "2023-07-14T11:40:37.825880Z",
          "iopub.status.busy": "2023-07-14T11:40:37.825545Z",
          "iopub.status.idle": "2023-07-14T11:40:37.840579Z",
          "shell.execute_reply": "2023-07-14T11:40:37.839572Z",
          "shell.execute_reply.started": "2023-07-14T11:40:37.825853Z"
        },
        "id": "VT_rnjhkeJWj",
        "trusted": true
      },
      "outputs": [],
      "source": [
        "# Collects prices for the given SMILES and coverts them into dataframe\n",
        "def chemspace_collect_prices(smiles_list):\n",
        "\n",
        "    access_token = chemspace_get_token()\n",
        "    url = \"https://api.chem-space.com/v3/search/exact\"\n",
        "    headers = {\n",
        "        \"Accept\": \"application/json; version=3.1\",\n",
        "        \"Authorization\": \"Bearer \" + access_token,\n",
        "    }\n",
        "    params = {\n",
        "        \"count\": 3,\n",
        "        \"page\": 1,\n",
        "        \"categories\": \"CSCS,CSMB\"\n",
        "    }\n",
        "\n",
        "    response_data = []\n",
        "\n",
        "    for index, smiles in tqdm(enumerate(smiles_list),total=len(smiles_list)):\n",
        "        data = {\n",
        "            \"SMILES\": smiles\n",
        "        }\n",
        "\n",
        "        response = requests.post(url, headers=headers, data=data, params=params)\n",
        "\n",
        "        # Check if the request was successful (status code 200)\n",
        "        if response.status_code == 200:\n",
        "            # Process the response here\n",
        "            molecule_data = response.json()\n",
        "\n",
        "            # original smiles added\n",
        "            for item in molecule_data['items']:\n",
        "                item['input smiles'] = smiles\n",
        "\n",
        "            response_data.append(molecule_data)\n",
        "        else:\n",
        "            # The request failed, print the status code and response content\n",
        "            print(\"Request failed with status code:\", response.status_code)\n",
        "            print(\"Response content:\", response.text)\n",
        "\n",
        "        time.sleep(1.5)\n",
        "\n",
        "    chemspace_data = []\n",
        "\n",
        "    # Iterate through the elements of the JSON file\n",
        "    for data in response_data:\n",
        "        for item in data['items']:\n",
        "            for offer in item['offers']:\n",
        "                for price in offer['prices']:\n",
        "\n",
        "                    source = \"ChemSpace\"\n",
        "                    input_smiles = item['input smiles']\n",
        "                    smiles = item[\"smiles\"]\n",
        "                    cas = item[\"cas\"]\n",
        "                    supplier_name = offer['vendorName']\n",
        "                    purity = offer['purity']\n",
        "                    amount = price['pack']\n",
        "                    measure = price['uom']\n",
        "                    price_usd = price['priceUsd']\n",
        "\n",
        "                    chemspace_data.append((source, input_smiles, smiles, cas, supplier_name, purity, amount, measure, price_usd))\n",
        "\n",
        "    df = pd.DataFrame(chemspace_data, columns=[\"Source\", \"Input SMILES\", \"SMILES\", \"CAS\", \"Supplier Name\", \"Purity\", \"Amount\", \"Measure\", \"Price_USD\"])\n",
        "    df = df.dropna(subset=[\"Price_USD\"], how='all')\n",
        "\n",
        "    return df"
      ]
    },
    {
      "cell_type": "code",
      "execution_count": null,
      "metadata": {
        "colab": {
          "base_uri": "https://localhost:8080/",
          "height": 907
        },
        "execution": {
          "iopub.execute_input": "2023-07-14T11:40:37.842611Z",
          "iopub.status.busy": "2023-07-14T11:40:37.841931Z",
          "iopub.status.idle": "2023-07-14T11:40:43.770013Z",
          "shell.execute_reply": "2023-07-14T11:40:43.768886Z",
          "shell.execute_reply.started": "2023-07-14T11:40:37.842573Z"
        },
        "id": "_TnDDohFeJWj",
        "outputId": "4385697c-651e-4f0c-d02e-b6b4bf564b45",
        "trusted": true
      },
      "outputs": [],
      "source": [
        "chemspace_prices=chemspace_collect_prices(smiles_list)\n",
        "chemspace_prices"
      ]
    },
    {
      "cell_type": "markdown",
      "metadata": {
        "id": "0XygGvbw8KZK"
      },
      "source": [
        "# # **MCULE**"
      ]
    },
    {
      "cell_type": "code",
      "execution_count": null,
      "metadata": {
        "id": "Nni5jUVQ8QGe"
      },
      "outputs": [],
      "source": [
        "# Function to collect MCule IDs with respect to limits\n",
        "def mcule_get_ids(smiles_list):\n",
        "    id_smiles_list = []\n",
        "\n",
        "    headers = {\n",
        "        'Authorization': 'Token ' + mcule_token,\n",
        "    }\n",
        "\n",
        "    # Iterate through smiles_list while respecting the limits\n",
        "    for i in range(0, len(smiles_list), 500):  # Process 500 SMILES at a time\n",
        "        batch_smiles = smiles_list[i:i+500]  # Extract a batch of SMILES\n",
        "\n",
        "        data = {\n",
        "            'queries': batch_smiles\n",
        "        }\n",
        "\n",
        "        # Send a POST request to MCule API for exact search\n",
        "        response = requests.post('https://mcule.com/api/v1/search/exact/', headers=headers, json=data)\n",
        "\n",
        "        if response.status_code == 200:\n",
        "            results = response.json()[\"results\"]\n",
        "\n",
        "            # Extract MCule IDs and corresponding SMILES\n",
        "            for result in results:\n",
        "                molecule_id = result[\"mcule_id\"]\n",
        "                query = result[\"query\"]\n",
        "                id_smiles_list.append((molecule_id, query))\n",
        "\n",
        "    # Create a DataFrame with collected data\n",
        "    df = pd.DataFrame(id_smiles_list, columns=[\"ID\", \"Input SMILES\"])\n",
        "    return df\n",
        "\n",
        "\n",
        "\n",
        "# Function to build packages for multiple amounts\n",
        "def build_packages(df):\n",
        "    if df.empty:\n",
        "      return\n",
        "\n",
        "    # Define the API URL\n",
        "    url = \"https://mcule.com/api/v1/iquote-queries/\"\n",
        "\n",
        "    # Headers for authorization\n",
        "    headers = {\n",
        "        \"Authorization\": \"Token \" + mcule_token,\n",
        "        \"Content-Type\": \"application/json\",\n",
        "        \"Accept\": \"application/json, */*\",\n",
        "        \"Accept-Encoding\": \"gzip, deflate\"\n",
        "    }\n",
        "\n",
        "    package_ids = []  # List to store package IDs\n",
        "\n",
        "    amount_list = [\"1\", \"5\", \"10\", \"100\", \"1000\", \"10000\", \"100000\", \"1000000\"]\n",
        "\n",
        "    for index,amount in tqdm(enumerate(amount_list),total=len(amount_list)):\n",
        "        # Request body in JSON format\n",
        "        data = {\n",
        "            \"amount\": amount,\n",
        "            \"customer_first_name\": \"John\",\n",
        "            \"customer_last_name\": \"Doe\",\n",
        "            \"delivery_country\": \"US\",\n",
        "            \"mcule_ids\": df[\"ID\"].tolist(),\n",
        "            \"min_amount\": None\n",
        "        }\n",
        "\n",
        "        # Send the POST request\n",
        "        response = requests.post(url, json=data, headers=headers)\n",
        "\n",
        "        # Check the response\n",
        "        if response.status_code == 201:  # Status code 201 for Created\n",
        "            results = response.json()\n",
        "            package_id = results[\"id\"]\n",
        "            package_ids.append(package_id)  # Add package ID to the list\n",
        "        else:\n",
        "            print(\"POST request failed for amount:\", amount)\n",
        "            print(\"Response code:\", response.status_code)\n",
        "            print(response.text)\n",
        "\n",
        "    return package_ids"
      ]
    },
    {
      "cell_type": "code",
      "execution_count": null,
      "metadata": {
        "colab": {
          "base_uri": "https://localhost:8080/"
        },
        "id": "otE6T95M9ARX",
        "outputId": "3620e01d-5f70-4358-8d3f-603c0cda43a9"
      },
      "outputs": [],
      "source": [
        "result_df = mcule_get_ids(smiles_list)\n",
        "print(result_df)\n",
        "\n",
        "package_ids = build_packages(result_df)\n",
        "print(package_ids)"
      ]
    },
    {
      "cell_type": "code",
      "execution_count": null,
      "metadata": {
        "id": "fsKQprTX8tPL"
      },
      "outputs": [],
      "source": [
        "from pandas.core.generic import DataFrameRenderer\n",
        "# Function to get quotes\n",
        "def get_quotes(quote):\n",
        "    for quote_data in quote.get('group', {}).get('quotes', []):\n",
        "        quote_id = quote_data['id']\n",
        "        headers = {\n",
        "            'Authorization': f'Token {mcule_token}',\n",
        "            'Content-Type': 'application/json',\n",
        "        }\n",
        "        url = f'https://mcule.com/api/v1/iquotes/{quote_id}/'\n",
        "        response = requests.get(url, headers=headers)\n",
        "        yield response.json()\n",
        "\n",
        "# Function to collect prices and data from MCule API\n",
        "def mcule_collect_prices(package_ids, check_freq=0.5):\n",
        "\n",
        "    data = []\n",
        "\n",
        "    if package_ids is None:\n",
        "        # Create a DataFrame with collected data\n",
        "        df = pd.DataFrame(data, columns=[\"Source\", \"ID\", \"Supplier Name\", \"SMILES\", \"Purity\", \"Price_USD\", \"Amount\", \"Measure\"])\n",
        "        return df\n",
        "\n",
        "    # Define headers for authorization\n",
        "    headers = {\n",
        "        'Authorization': f'Token {mcule_token}',\n",
        "        'Content-Type': 'application/json',\n",
        "    }\n",
        "\n",
        "    for index, package_id in tqdm(enumerate(package_ids),total=len(package_ids)):\n",
        "\n",
        "        # Construct the URL for the specific quote request\n",
        "        url = f'https://mcule.com/api/v1/iquote-queries/{package_id}/'\n",
        "\n",
        "        # Function to check the status of the quote request\n",
        "        def check_status():\n",
        "            response_package = requests.get(url, headers=headers).json()\n",
        "            status = response_package['state']\n",
        "            if status == 40:\n",
        "                return None\n",
        "            elif status == 30 and response_package['group']:\n",
        "                return response_package\n",
        "            elif status == 30 and not response_package['group']:\n",
        "                return None\n",
        "            else:\n",
        "                return 1\n",
        "\n",
        "        response_package = check_status()\n",
        "        while response_package == 1:\n",
        "            time.sleep(check_freq)\n",
        "            response_package = check_status()\n",
        "\n",
        "        if response_package is None:\n",
        "            continue\n",
        "\n",
        "        for quote in get_quotes(response_package):\n",
        "            # Extract values from each product item in the quote\n",
        "            product_items = quote.get('items', [])\n",
        "\n",
        "            for item in product_items:\n",
        "                source = \"MCule\"\n",
        "                mcule_id = item.get('structure_origin_mcule_id')\n",
        "                product_supplier_name = item.get('product_supplier_name')\n",
        "                smiles = item.get('product_smiles')\n",
        "                purity = item.get('product_purity')\n",
        "                price = item.get('product_price')\n",
        "                amount = item.get('amount')\n",
        "                measure = \"mg\"\n",
        "                data.append((source, mcule_id, product_supplier_name, smiles, purity, price, amount, measure))\n",
        "\n",
        "    # Create a DataFrame with collected data\n",
        "    df = pd.DataFrame(data, columns=[\"Source\", \"ID\", \"Supplier Name\", \"SMILES\", \"Purity\", \"Price_USD\", \"Amount\", \"Measure\"])\n",
        "\n",
        "    return df\n",
        "\n",
        "# Merges two dataframes\n",
        "def add_input_smiles_columns(df1, df2):\n",
        "\n",
        "    # Common columns to use for merging\n",
        "    common_columns = ['ID']\n",
        "\n",
        "    # Convert columns to compatible data types\n",
        "    df1 = df1.astype(str)\n",
        "    df2 = df2.astype(str)\n",
        "\n",
        "    # Merge the two dataframes using the common columns\n",
        "    merged_df = pd.merge(df1, df2, on=common_columns, how='outer')\n",
        "\n",
        "    # Sort dataframe\n",
        "    merged_df = merged_df.sort_values(by=['Input SMILES'])\n",
        "    merged_df.drop(\"ID\", axis=1, inplace=True)\n",
        "    merged_df = merged_df.dropna(subset=['SMILES'])\n",
        "    merged_df = merged_df.drop_duplicates()\n",
        "\n",
        "    return merged_df"
      ]
    },
    {
      "cell_type": "code",
      "execution_count": null,
      "metadata": {
        "colab": {
          "base_uri": "https://localhost:8080/",
          "height": 89
        },
        "id": "afr6hVTS9Pgu",
        "outputId": "b9ae0299-b769-4214-fce0-466038426e6d"
      },
      "outputs": [],
      "source": [
        "mcule_prices = mcule_collect_prices(package_ids)\n",
        "mcule_prices = add_input_smiles_columns(result_df, mcule_prices)\n",
        "mcule_prices"
      ]
    },
    {
      "cell_type": "markdown",
      "metadata": {
        "id": "jCIMIfO28U7i"
      },
      "source": [
        "# # **PRICE RESULTS**"
      ]
    },
    {
      "cell_type": "code",
      "execution_count": null,
      "metadata": {
        "execution": {
          "iopub.execute_input": "2023-07-14T11:40:43.771923Z",
          "iopub.status.busy": "2023-07-14T11:40:43.771509Z",
          "iopub.status.idle": "2023-07-14T11:40:43.781119Z",
          "shell.execute_reply": "2023-07-14T11:40:43.779847Z",
          "shell.execute_reply.started": "2023-07-14T11:40:43.771885Z"
        },
        "id": "caRVpwhheJWj",
        "trusted": true
      },
      "outputs": [],
      "source": [
        "def merge_dataframes(df_list):\n",
        "    # Common columns to use for merging\n",
        "    common_columns = ['Source', 'Input SMILES', 'SMILES', 'Supplier Name', 'Purity', 'Amount', 'Measure', 'Price_USD']\n",
        "\n",
        "    # Initialize an empty dataframe to store the merged results\n",
        "    merged_df = pd.DataFrame(columns=common_columns)\n",
        "\n",
        "    # Convert columns to compatible data types for all dataframes in the list\n",
        "    for i in range(len(df_list)):\n",
        "        df_list[i] = df_list[i].astype(str)\n",
        "\n",
        "    # Merge all dataframes in the list using the common columns\n",
        "    for df in df_list:\n",
        "        merged_df = pd.merge(merged_df, df, on=common_columns, how='outer')\n",
        "\n",
        "    # Sort dataframe\n",
        "    merged_df = merged_df.sort_values(by=['Input SMILES'])\n",
        "\n",
        "    # Save the merged dataframe to a new CSV file\n",
        "    # merged_df.to_csv(\"merged_prices.csv\", index=False)\n",
        "\n",
        "    return merged_df"
      ]
    },
    {
      "cell_type": "code",
      "execution_count": null,
      "metadata": {
        "colab": {
          "base_uri": "https://localhost:8080/",
          "height": 970
        },
        "execution": {
          "iopub.execute_input": "2023-07-14T11:40:43.783316Z",
          "iopub.status.busy": "2023-07-14T11:40:43.782606Z",
          "iopub.status.idle": "2023-07-14T11:40:43.839510Z",
          "shell.execute_reply": "2023-07-14T11:40:43.838488Z",
          "shell.execute_reply.started": "2023-07-14T11:40:43.783276Z"
        },
        "id": "TJque5sKeJWj",
        "outputId": "3f62421e-d65e-4e4e-dd4d-b3393b7def1a",
        "trusted": true
      },
      "outputs": [],
      "source": [
        "merged_df = merge_dataframes([molport_prices, chemspace_prices, mcule_prices])\n",
        "merged_df"
      ]
    },
    {
      "cell_type": "code",
      "execution_count": null,
      "metadata": {
        "execution": {
          "iopub.execute_input": "2023-07-14T11:40:43.841742Z",
          "iopub.status.busy": "2023-07-14T11:40:43.841099Z",
          "iopub.status.idle": "2023-07-14T11:40:43.848729Z",
          "shell.execute_reply": "2023-07-14T11:40:43.847788Z",
          "shell.execute_reply.started": "2023-07-14T11:40:43.841689Z"
        },
        "id": "8y7WSa3FeJWk",
        "trusted": true
      },
      "outputs": [],
      "source": [
        "# Define conversion factors for different measures\n",
        "conversion_factors = {\n",
        "    # Conversion to g\n",
        "    'kg': 1000,\n",
        "    'g': 1,\n",
        "    'mg': 1 / 1000,\n",
        "    'microg': 1 / 1000000,\n",
        "    'ug': 1 / 1000000,\n",
        "\n",
        "    # Conversion to mol\n",
        "    'kmol': 1000,\n",
        "    'mol': 1,\n",
        "    'mmol': 1 / 1000,\n",
        "    'micromol': 1 / 1000000,\n",
        "    'umol': 1 / 1000000,\n",
        "\n",
        "    # Conversion to l\n",
        "    'kl': 1000,\n",
        "    'l': 1,\n",
        "    'ml': 1 / 1000,\n",
        "    'mL': 1 / 1000,\n",
        "    'microl': 1 / 1000000,\n",
        "    'ul': 1 / 1000000,\n",
        "}"
      ]
    },
    {
      "cell_type": "code",
      "execution_count": null,
      "metadata": {
        "execution": {
          "iopub.execute_input": "2023-07-14T11:40:43.850565Z",
          "iopub.status.busy": "2023-07-14T11:40:43.850240Z",
          "iopub.status.idle": "2023-07-14T11:40:43.866293Z",
          "shell.execute_reply": "2023-07-14T11:40:43.865387Z",
          "shell.execute_reply.started": "2023-07-14T11:40:43.850537Z"
        },
        "id": "8aNGRf_EeJWk",
        "trusted": true
      },
      "outputs": [],
      "source": [
        "# parses the units like 5x100g\n",
        "def extract_unit_bulk(unit_string):\n",
        "    # Extract the numeric part and unit from the unit string\n",
        "    parts = re.search(r'(\\d+)x(\\d+)(\\D+)', unit_string)\n",
        "    if parts:\n",
        "        bulk = int(parts.group(1)) * int(parts.group(2))\n",
        "        unit = parts.group(3).lower()\n",
        "        return bulk, unit\n",
        "    else:\n",
        "        bulk = re.search(r'\\d+', unit_string)\n",
        "        if bulk:\n",
        "            bulk = int(bulk.group())\n",
        "        else:\n",
        "            return None, None\n",
        "\n",
        "        unit = re.search(r'[a-zA-Z]+', unit_string)\n",
        "        if unit:\n",
        "            unit = unit.group().lower()\n",
        "        else:\n",
        "            return None, None\n",
        "\n",
        "#Convert all prices into USD/g or USD/mol or USD/l\n",
        "def standardize_prices(row):\n",
        "    measure = row['Measure']\n",
        "    amount = float(row['Amount'])\n",
        "    price = float(row['Price_USD'])\n",
        "\n",
        "    if measure in conversion_factors:\n",
        "        return price / (conversion_factors[measure] * amount)\n",
        "    else:\n",
        "        bulk, unit = extract_unit_bulk(measure)\n",
        "        if amount and unit:\n",
        "            if unit in conversion_factors:\n",
        "                return price / (conversion_factors[unit] * (amount * bulk))\n",
        "        print(\"Unknown measure units for:\",measure)\n",
        "        return None\n",
        "\n",
        "def add_standardized_columns(df):\n",
        "\n",
        "    if df.empty:\n",
        "        # Empty dataframe, add empty columns and save\n",
        "        df['USD/g'] = ''\n",
        "        df['USD/mol'] = ''\n",
        "        df['USD/l'] = ''\n",
        "        return df\n",
        "\n",
        "    df['Measure'] = df['Measure'].astype(str)\n",
        "\n",
        "    # Apply the function to create new columns\n",
        "    df['USD/g'] = df.apply(lambda row: standardize_prices(row) if row['Measure'] in ['g', 'mg', 'kg', 'microg', 'ug' ] or re.match(r'\\d+x\\d+g', row['Measure']) else None, axis=1)\n",
        "    df['USD/mol'] = df.apply(lambda row: standardize_prices(row) if row['Measure'] in ['mol', 'micromol', 'mmol', 'kmol', 'umol'] else None, axis=1)\n",
        "    df['USD/l'] = df.apply(lambda row: standardize_prices(row) if (row['Measure'] in ['ml', 'microl', 'l', 'mL', 'kl', 'ul']) or re.match(r'\\d+x\\d+mL', row['Measure']) else None, axis=1)\n",
        "\n",
        "    # Sort and Save the dataframe with the additional columns to a new CSV file\n",
        "    df = df.sort_values(by=['Input SMILES', 'USD/g', 'USD/mol', 'USD/l'])\n",
        "    # df.to_csv(\"standardized_merged_prices.csv\", index=False)\n",
        "    return df"
      ]
    },
    {
      "cell_type": "code",
      "execution_count": null,
      "metadata": {
        "colab": {
          "base_uri": "https://localhost:8080/",
          "height": 970
        },
        "execution": {
          "iopub.execute_input": "2023-07-14T11:40:43.867598Z",
          "iopub.status.busy": "2023-07-14T11:40:43.867315Z",
          "iopub.status.idle": "2023-07-14T11:40:43.928486Z",
          "shell.execute_reply": "2023-07-14T11:40:43.927392Z",
          "shell.execute_reply.started": "2023-07-14T11:40:43.867574Z"
        },
        "id": "h4hCZXEoeJWk",
        "outputId": "960a7165-307b-4166-a12c-d3c2c9f4c2a5",
        "trusted": true
      },
      "outputs": [],
      "source": [
        "standardized_df = add_standardized_columns(merged_df)\n",
        "standardized_df"
      ]
    },
    {
      "cell_type": "code",
      "execution_count": null,
      "metadata": {
        "execution": {
          "iopub.execute_input": "2023-07-14T11:40:43.930129Z",
          "iopub.status.busy": "2023-07-14T11:40:43.929803Z",
          "iopub.status.idle": "2023-07-14T11:40:43.938949Z",
          "shell.execute_reply": "2023-07-14T11:40:43.937773Z",
          "shell.execute_reply.started": "2023-07-14T11:40:43.930101Z"
        },
        "id": "2D9eGhhbeJWk",
        "trusted": true
      },
      "outputs": [],
      "source": [
        "def filter_csv_by_min_price(df):\n",
        "\n",
        "    # Remove rows where neither of the two values (USD/g and USD/mol) is present\n",
        "    df = df.dropna(subset=[\"USD/g\", \"USD/mol\", \"USD/l\"], how='all')\n",
        "\n",
        "    # Filter the rows from the initial dataframe, keeping only those corresponding to the smallest value of \"Price_USD\"\n",
        "    filtered_df_g = df[df.groupby(\"Input SMILES\")[\"USD/g\"].transform(min) == df[\"USD/g\"]]\n",
        "    filtered_df_mol = df[df.groupby(\"Input SMILES\")[\"USD/mol\"].transform(min) == df[\"USD/mol\"]]\n",
        "    filtered_df_l = df[df.groupby(\"Input SMILES\")[\"USD/l\"].transform(min) == df[\"USD/l\"]]\n",
        "\n",
        "    # If multiple rows have the same price, keep the first one\n",
        "    filtered_df_g = filtered_df_g.sample(frac=1).groupby(\"Input SMILES\", as_index=False).first()\n",
        "    filtered_df_mol = filtered_df_mol.sample(frac=1).groupby(\"Input SMILES\", as_index=False).first()\n",
        "    filtered_df_l = filtered_df_l.sample(frac=1).groupby(\"Input SMILES\", as_index=False).first()\n",
        "\n",
        "    # Combine the results using concatenation\n",
        "    filtered_df = pd.concat([filtered_df_g, filtered_df_mol, filtered_df_l])\n",
        "\n",
        "    filtered_df = filtered_df.sort_values(by=['Input SMILES', 'USD/g', 'USD/mol', 'USD/l'])\n",
        "\n",
        "    return filtered_df"
      ]
    },
    {
      "cell_type": "code",
      "execution_count": null,
      "metadata": {
        "colab": {
          "base_uri": "https://localhost:8080/",
          "height": 187
        },
        "execution": {
          "iopub.execute_input": "2023-07-14T11:40:43.941202Z",
          "iopub.status.busy": "2023-07-14T11:40:43.940672Z",
          "iopub.status.idle": "2023-07-14T11:40:44.000133Z",
          "shell.execute_reply": "2023-07-14T11:40:43.999108Z",
          "shell.execute_reply.started": "2023-07-14T11:40:43.941163Z"
        },
        "id": "1tE7i4gJeJWk",
        "outputId": "724edcb7-b9a3-47e8-b7e9-3c9c676725ff",
        "trusted": true
      },
      "outputs": [],
      "source": [
        "best_price_df = filter_csv_by_min_price(standardized_df)\n",
        "best_price_df"
      ]
    },
    {
      "cell_type": "code",
      "execution_count": null,
      "metadata": {
        "colab": {
          "base_uri": "https://localhost:8080/"
        },
        "execution": {
          "iopub.execute_input": "2023-07-14T11:40:44.019320Z",
          "iopub.status.busy": "2023-07-14T11:40:44.018812Z",
          "iopub.status.idle": "2023-07-14T11:45:05.679983Z",
          "shell.execute_reply": "2023-07-14T11:45:05.678967Z",
          "shell.execute_reply.started": "2023-07-14T11:40:44.019291Z"
        },
        "id": "HXTh-DCpeJWk",
        "outputId": "3094fc98-7dcd-445e-8807-2caf35125a6e",
        "trusted": true
      },
      "outputs": [],
      "source": [
        "time_start  = time.perf_counter()\n",
        "\n",
        "# Get the molecule IDs and print count MolPort\n",
        "print(f\"Collecting ID's for given {len(smiles_list)} SMILES from MolPort...\")\n",
        "df_molecule_ids = molport_get_ids(smiles_list)\n",
        "smiles_exists = df_molecule_ids['Input SMILES'].nunique()\n",
        "print(f\"Total: {smiles_exists} molecules and {len(df_molecule_ids)} conformers are found in MolPort.\\n\")\n",
        "\n",
        "# Get the prices and print count from MolPort\n",
        "print(f\"Collecting Prices for given {len(smiles_list)} IDs from MolPort...\")\n",
        "molport_prices=molport_collect_prices(df_molecule_ids)\n",
        "smiles_with_price = molport_prices.loc[molport_prices['Price_USD'].notnull(), 'Input SMILES'].nunique()\n",
        "print(f\"Total: {len(molport_prices)} prices for {smiles_with_price} molecules are found in MolPort.\\n\")\n",
        "\n",
        "# Get the prices and print count from ChemSpace\n",
        "print(f\"Collecting Prices for given {len(smiles_list)} SMILES from ChemSpace...\")\n",
        "chemspace_prices=chemspace_collect_prices(smiles_list)\n",
        "unique_smiles_count = chemspace_prices['Input SMILES'].nunique()\n",
        "smiles_with_price_cs = len(chemspace_prices[chemspace_prices['Price_USD'].notnull()])\n",
        "print(f\"Total: {smiles_with_price_cs} prices for {unique_smiles_count} molecules are found in ChemSpace.\\n\")\n",
        "\n",
        "# Get the molecule IDs and print count MCule\n",
        "print(f\"Collecting ID's for given {len(smiles_list)} SMILES from MCule...\")\n",
        "df_molecule_ids = mcule_get_ids(smiles_list)\n",
        "smiles_exists = df_molecule_ids['Input SMILES'].nunique()\n",
        "package_id = build_packages(df_molecule_ids)\n",
        "print(f\"Total: {smiles_exists} molecules and {len(df_molecule_ids)} conformers are found in MCule.\\n\")\n",
        "\n",
        "# Get the prices and print count from MCule\n",
        "print(f\"Collecting Prices for given {len(smiles_list)} IDs from MCule...\")\n",
        "mcule_prices = mcule_collect_prices(package_id)\n",
        "mcule_prices = add_input_smiles_columns(df_molecule_ids, mcule_prices)\n",
        "smiles_with_price = mcule_prices.loc[mcule_prices['Price_USD'].notnull(), 'Input SMILES'].nunique()\n",
        "print(f\"\\nTotal: {len(mcule_prices)} prices for {smiles_with_price} molecules are found in MCule.\\n\")\n",
        "\n",
        "print(f\"Merging Results from Molport, ChemSpace and MCule...\")\n",
        "merged_df = merge_dataframes([molport_prices, chemspace_prices, mcule_prices])\n",
        "unique_smiles_count_merged = merged_df['Input SMILES'].nunique()\n",
        "smiles_with_price_merged = len(merged_df.loc[merged_df['Price_USD'].notnull(), 'Input SMILES'])\n",
        "print(f\"Total: {smiles_with_price_merged} prices for {unique_smiles_count_merged} molecules are exist in the Merged file.\\n\")\n",
        "\n",
        "print(f\"Standardazing units...\")\n",
        "standardized_df = add_standardized_columns(merged_df)\n",
        "print(f\"File saved: standardized_merged_prices.csv\\n\")\n",
        "\n",
        "print(f\"Selecting best prices...\")\n",
        "best_price_df = filter_csv_by_min_price(standardized_df)\n",
        "total_unique_smiles_best = best_price_df['Input SMILES'].nunique()\n",
        "print(f\"Total: {len(best_price_df)} Best prices for {total_unique_smiles_best} molecules.\")\n",
        "print(f\"File saved: best_prices.csv\\n\")\n",
        "\n",
        "print(f\"Vendor price collection is successfully done!\")\n",
        "\n",
        "time_end = time.perf_counter()\n",
        "print(f\"Total time: {time_end - time_start:0.4f} seconds\")"
      ]
    },
    {
      "cell_type": "code",
      "execution_count": null,
      "metadata": {
        "execution": {
          "iopub.execute_input": "2023-07-14T11:47:27.398330Z",
          "iopub.status.busy": "2023-07-14T11:47:27.397952Z",
          "iopub.status.idle": "2023-07-14T11:47:27.409759Z",
          "shell.execute_reply": "2023-07-14T11:47:27.408571Z",
          "shell.execute_reply.started": "2023-07-14T11:47:27.398300Z"
        },
        "id": "ca2wR2hzeJWl",
        "trusted": true
      },
      "outputs": [],
      "source": [
        "def collect_vendors(smiles_list, ChemSpace=True, Molport=True, MCule=True):\n",
        "\n",
        "    time_start  = time.perf_counter()\n",
        "\n",
        "    # List of selected suppliers\n",
        "    selected_providers = []\n",
        "\n",
        "    if Molport:\n",
        "        # Get the molecule IDs and print count MolPort\n",
        "        print(f\"Collecting ID's for given {len(smiles_list)} SMILES from MolPort...\")\n",
        "        df_molecule_ids = molport_get_ids(smiles_list)\n",
        "        smiles_exists = df_molecule_ids['Input SMILES'].nunique()\n",
        "        print(f\"Total: {smiles_exists} molecules and {len(df_molecule_ids)} conformers are found in MolPort.\\n\")\n",
        "\n",
        "        # Get the prices and print count from MolPort\n",
        "        print(f\"Collecting Prices for given {len(smiles_list)} IDs from MolPort...\")\n",
        "        molport_prices=molport_collect_prices(df_molecule_ids)\n",
        "        smiles_with_price = molport_prices.loc[molport_prices['Price_USD'].notnull(), 'Input SMILES'].nunique()\n",
        "        print(f\"Total: {len(molport_prices)} prices for {smiles_with_price} molecules are found in MolPort.\\n\")\n",
        "        selected_providers.append((\"Molport\", molport_prices))\n",
        "\n",
        "    if ChemSpace:\n",
        "        # Get the prices and print count from ChemSpace\n",
        "        print(f\"Collecting Prices for given {len(smiles_list)} SMILES from ChemSpace...\")\n",
        "        chemspace_prices=chemspace_collect_prices(smiles_list)\n",
        "        unique_smiles_count = chemspace_prices['Input SMILES'].nunique()\n",
        "        smiles_with_price_cs = len(chemspace_prices[chemspace_prices['Price_USD'].notnull()])\n",
        "        print(f\"Total: {smiles_with_price_cs} prices for {unique_smiles_count} molecules are found in ChemSpace.\\n\")\n",
        "        selected_providers.append((\"ChemSpace\", chemspace_prices))\n",
        "\n",
        "    if MCule:\n",
        "        # Get the molecule IDs and print count MolPort\n",
        "        print(f\"Collecting ID's for given {len(smiles_list)} SMILES from MCule...\")\n",
        "        df_molecule_ids = mcule_get_ids(smiles_list)\n",
        "        smiles_exists = df_molecule_ids['Input SMILES'].nunique()\n",
        "        package_id = build_packages(df_molecule_ids)\n",
        "        print(f\"Total: {smiles_exists} molecules and {len(df_molecule_ids)} conformers are found in MCule.\\n\")\n",
        "\n",
        "        # Get the prices and print count from MCule\n",
        "        print(f\"Collecting Prices for given {len(smiles_list)} IDs from MCule...\")\n",
        "        mcule_prices = mcule_collect_prices(package_id)\n",
        "        mcule_prices = add_input_smiles_columns(df_molecule_ids, mcule_prices)\n",
        "        smiles_with_price = mcule_prices.loc[mcule_prices['Price_USD'].notnull(), 'Input SMILES'].nunique()\n",
        "        print(f\"Total: {len(mcule_prices)} prices for {smiles_with_price} molecules are found in MCule.\\n\")\n",
        "        selected_providers.append((\"MCule\", mcule_prices))\n",
        "\n",
        "    if selected_providers:\n",
        "        name_providers = [row[0] for row in selected_providers]\n",
        "        if len(name_providers) >= 2:\n",
        "            all_providers = \", \".join(name_providers[:-1]) + \" and \" + name_providers[-1]\n",
        "        else:\n",
        "            all_providers = name_providers[0]\n",
        "        print(f\"Merging Results from {all_providers}...\")\n",
        "        merged_df = merge_dataframes([row[1] for row in selected_providers])\n",
        "        unique_smiles_count_merged = merged_df['Input SMILES'].nunique()\n",
        "        smiles_with_price_merged = len(merged_df.loc[merged_df['Price_USD'].notnull(), 'Input SMILES'])\n",
        "        print(f\"Total: {smiles_with_price_merged} prices for {unique_smiles_count_merged} molecules exist in the Merged file.\\n\")\n",
        "    else:\n",
        "        print(f\"The credentials are missing or incorrect. You need to set credential for at least one integrator.\")\n",
        "        return pd.DataFrame([])\n",
        "\n",
        "    time_end = time.perf_counter()\n",
        "    print(f\"Total time: {time_end - time_start:0.4f} seconds\")\n",
        "    print(f\"Vendor price collection is successfully done!\")\n",
        "\n",
        "    return merged_df"
      ]
    },
    {
      "cell_type": "code",
      "execution_count": null,
      "metadata": {
        "colab": {
          "base_uri": "https://localhost:8080/",
          "height": 1000
        },
        "execution": {
          "iopub.execute_input": "2023-07-14T11:47:54.773250Z",
          "iopub.status.busy": "2023-07-14T11:47:54.772876Z",
          "iopub.status.idle": "2023-07-14T11:52:16.842207Z",
          "shell.execute_reply": "2023-07-14T11:52:16.841162Z",
          "shell.execute_reply.started": "2023-07-14T11:47:54.773220Z"
        },
        "id": "R_FdTjw3eJWl",
        "outputId": "16c32b0d-d825-419f-8a48-2f3da411d332",
        "trusted": true
      },
      "outputs": [],
      "source": [
        "collect_vendors(smiles_list, ChemSpace=True, Molport=True, MCule=True)"
      ]
    }
  ],
  "metadata": {
    "colab": {
      "provenance": []
    },
    "kernelspec": {
      "display_name": "Python 3",
      "language": "python",
      "name": "python3"
    },
    "language_info": {
      "codemirror_mode": {
        "name": "ipython",
        "version": 3
      },
      "file_extension": ".py",
      "mimetype": "text/x-python",
      "name": "python",
      "nbconvert_exporter": "python",
      "pygments_lexer": "ipython3",
      "version": "3.10.12"
    }
  },
  "nbformat": 4,
  "nbformat_minor": 0
}
